{
 "cells": [
  {
   "cell_type": "code",
   "execution_count": 7,
   "metadata": {},
   "outputs": [],
   "source": [
    "from tensorflow.keras.preprocessing.image import ImageDataGenerator"
   ]
  },
  {
   "cell_type": "code",
   "execution_count": 8,
   "metadata": {},
   "outputs": [],
   "source": [
    "train_datagen=ImageDataGenerator(rescale=1./255, zoom_range=0.25 , horizontal_flip=True, \n",
    "                   vertical_flip=False,\n",
    "                   width_shift_range=0.2)"
   ]
  },
  {
   "cell_type": "code",
   "execution_count": 9,
   "metadata": {},
   "outputs": [],
   "source": [
    "test_datagen=ImageDataGenerator(rescale=1./255)"
   ]
  },
  {
   "cell_type": "code",
   "execution_count": 10,
   "metadata": {},
   "outputs": [],
   "source": [
    "width=128\n",
    "height=128"
   ]
  },
  {
   "cell_type": "code",
   "execution_count": 11,
   "metadata": {},
   "outputs": [
    {
     "name": "stdout",
     "output_type": "stream",
     "text": [
      "Found 2000 images belonging to 10 classes.\n"
     ]
    }
   ],
   "source": [
    "x_train=train_datagen.flow_from_directory(r\"C:\\ship classification\\training data\",\n",
    "                                  target_size=(width,height),\n",
    "                                  class_mode=\"categorical\",\n",
    "                                 batch_size=100)"
   ]
  },
  {
   "cell_type": "code",
   "execution_count": 13,
   "metadata": {},
   "outputs": [
    {
     "name": "stdout",
     "output_type": "stream",
     "text": [
      "Found 485 images belonging to 10 classes.\n"
     ]
    }
   ],
   "source": [
    "x_test=train_datagen.flow_from_directory(r\"C:\\ship classification\\testing data\",\n",
    "                                  target_size=(width,height),\n",
    "                                  class_mode=\"categorical\",\n",
    "                                 batch_size=100)"
   ]
  },
  {
   "cell_type": "markdown",
   "metadata": {},
   "source": [
    "## modeling"
   ]
  },
  {
   "cell_type": "code",
   "execution_count": 14,
   "metadata": {},
   "outputs": [],
   "source": [
    "from tensorflow.keras.models import Sequential\n",
    "from tensorflow.keras.layers import Dense\n",
    "from tensorflow.keras.layers import Convolution2D\n",
    "from tensorflow.keras.layers import MaxPooling2D\n",
    "from tensorflow.keras.layers import Flatten\n",
    "from tensorflow.keras.layers import Dense"
   ]
  },
  {
   "cell_type": "code",
   "execution_count": 15,
   "metadata": {},
   "outputs": [],
   "source": [
    "model = Sequential()"
   ]
  },
  {
   "cell_type": "code",
   "execution_count": 16,
   "metadata": {},
   "outputs": [],
   "source": [
    "model.add(Convolution2D(32,(3,3),input_shape=(width,height,3),activation=\"relu\"))"
   ]
  },
  {
   "cell_type": "code",
   "execution_count": 17,
   "metadata": {},
   "outputs": [],
   "source": [
    "model.add(Convolution2D(32,(3,3),activation=\"relu\"))"
   ]
  },
  {
   "cell_type": "code",
   "execution_count": 18,
   "metadata": {},
   "outputs": [],
   "source": [
    "model.add(MaxPooling2D(pool_size=(3,3))) #2,2"
   ]
  },
  {
   "cell_type": "code",
   "execution_count": 19,
   "metadata": {},
   "outputs": [],
   "source": [
    "model.add(MaxPooling2D(pool_size=(3,3))) #2,2"
   ]
  },
  {
   "cell_type": "code",
   "execution_count": 20,
   "metadata": {},
   "outputs": [],
   "source": [
    "model.add(Flatten())"
   ]
  },
  {
   "cell_type": "code",
   "execution_count": 21,
   "metadata": {},
   "outputs": [
    {
     "data": {
      "text/plain": [
       "(None, 5408)"
      ]
     },
     "execution_count": 21,
     "metadata": {},
     "output_type": "execute_result"
    }
   ],
   "source": [
    "model.output_shape"
   ]
  },
  {
   "cell_type": "code",
   "execution_count": 22,
   "metadata": {},
   "outputs": [
    {
     "name": "stdout",
     "output_type": "stream",
     "text": [
      "Model: \"sequential\"\n",
      "_________________________________________________________________\n",
      "Layer (type)                 Output Shape              Param #   \n",
      "=================================================================\n",
      "conv2d (Conv2D)              (None, 126, 126, 32)      896       \n",
      "_________________________________________________________________\n",
      "conv2d_1 (Conv2D)            (None, 124, 124, 32)      9248      \n",
      "_________________________________________________________________\n",
      "max_pooling2d (MaxPooling2D) (None, 41, 41, 32)        0         \n",
      "_________________________________________________________________\n",
      "max_pooling2d_1 (MaxPooling2 (None, 13, 13, 32)        0         \n",
      "_________________________________________________________________\n",
      "flatten (Flatten)            (None, 5408)              0         \n",
      "=================================================================\n",
      "Total params: 10,144\n",
      "Trainable params: 10,144\n",
      "Non-trainable params: 0\n",
      "_________________________________________________________________\n"
     ]
    }
   ],
   "source": [
    "model.summary()"
   ]
  },
  {
   "cell_type": "code",
   "execution_count": 23,
   "metadata": {},
   "outputs": [],
   "source": [
    "#hidden layers\n",
    "model.add(Dense(units=300,kernel_initializer=\"he_uniform\",activation=\"relu\"))"
   ]
  },
  {
   "cell_type": "code",
   "execution_count": 24,
   "metadata": {},
   "outputs": [],
   "source": [
    "model.add(Dense(units=150,kernel_initializer=\"he_uniform\",activation=\"relu\"))"
   ]
  },
  {
   "cell_type": "code",
   "execution_count": 25,
   "metadata": {},
   "outputs": [],
   "source": [
    "#output layer\n",
    "model.add(Dense(units=10,kernel_initializer=\"he_uniform\",activation=\"softmax\"))"
   ]
  },
  {
   "cell_type": "code",
   "execution_count": 26,
   "metadata": {},
   "outputs": [],
   "source": [
    "#compiling\n",
    "model.compile(loss=\"categorical_crossentropy\",optimizer=\"adam\",metrics=[\"accuracy\"])"
   ]
  },
  {
   "cell_type": "code",
   "execution_count": 29,
   "metadata": {},
   "outputs": [
    {
     "name": "stdout",
     "output_type": "stream",
     "text": [
      "Epoch 1/15\n",
      "20/20 [==============================] - 39s 2s/step - loss: 0.5115 - accuracy: 0.8185 - val_loss: 0.7152 - val_accuracy: 0.7800\n",
      "Epoch 2/15\n",
      "20/20 [==============================] - 39s 2s/step - loss: 0.4448 - accuracy: 0.8450 - val_loss: 0.7085 - val_accuracy: 0.8000\n",
      "Epoch 3/15\n",
      "20/20 [==============================] - 39s 2s/step - loss: 0.4236 - accuracy: 0.8595 - val_loss: 0.6346 - val_accuracy: 0.7925\n",
      "Epoch 4/15\n",
      "20/20 [==============================] - 39s 2s/step - loss: 0.3997 - accuracy: 0.8615 - val_loss: 0.5802 - val_accuracy: 0.8250\n",
      "Epoch 5/15\n",
      "20/20 [==============================] - 39s 2s/step - loss: 0.4075 - accuracy: 0.8650 - val_loss: 0.7717 - val_accuracy: 0.7975\n",
      "Epoch 6/15\n",
      "20/20 [==============================] - 39s 2s/step - loss: 0.3957 - accuracy: 0.8660 - val_loss: 0.6081 - val_accuracy: 0.8175\n",
      "Epoch 7/15\n",
      "20/20 [==============================] - 39s 2s/step - loss: 0.3515 - accuracy: 0.8855 - val_loss: 0.6137 - val_accuracy: 0.8300\n",
      "Epoch 8/15\n",
      "20/20 [==============================] - 39s 2s/step - loss: 0.3579 - accuracy: 0.8705 - val_loss: 0.6321 - val_accuracy: 0.8100\n",
      "Epoch 9/15\n",
      "20/20 [==============================] - 39s 2s/step - loss: 0.3425 - accuracy: 0.8835 - val_loss: 0.6149 - val_accuracy: 0.8225\n",
      "Epoch 10/15\n",
      "20/20 [==============================] - 39s 2s/step - loss: 0.3358 - accuracy: 0.8915 - val_loss: 0.6811 - val_accuracy: 0.8325\n",
      "Epoch 11/15\n",
      "20/20 [==============================] - 39s 2s/step - loss: 0.3397 - accuracy: 0.8850 - val_loss: 0.5718 - val_accuracy: 0.8550\n",
      "Epoch 12/15\n",
      "20/20 [==============================] - 39s 2s/step - loss: 0.3409 - accuracy: 0.8850 - val_loss: 0.5599 - val_accuracy: 0.8600\n",
      "Epoch 13/15\n",
      "20/20 [==============================] - 39s 2s/step - loss: 0.3371 - accuracy: 0.8830 - val_loss: 0.6222 - val_accuracy: 0.8575\n",
      "Epoch 14/15\n",
      "20/20 [==============================] - 39s 2s/step - loss: 0.2721 - accuracy: 0.9095 - val_loss: 0.5759 - val_accuracy: 0.8350\n",
      "Epoch 15/15\n",
      "20/20 [==============================] - 39s 2s/step - loss: 0.2665 - accuracy: 0.9170 - val_loss: 0.5701 - val_accuracy: 0.8600\n"
     ]
    },
    {
     "data": {
      "text/plain": [
       "<tensorflow.python.keras.callbacks.History at 0x1241f780790>"
      ]
     },
     "execution_count": 29,
     "metadata": {},
     "output_type": "execute_result"
    }
   ],
   "source": [
    "model.fit_generator(x_train,steps_per_epoch=2000/100,epochs=15,validation_data=x_test, \n",
    "                    validation_steps=485//100)"
   ]
  },
  {
   "cell_type": "code",
   "execution_count": 30,
   "metadata": {},
   "outputs": [
    {
     "data": {
      "text/plain": [
       "{'aircraft carrier': 0,\n",
       " 'bulker ships': 1,\n",
       " 'cruise ships': 2,\n",
       " 'drilling rigs': 3,\n",
       " 'fire fighter ships': 4,\n",
       " 'fishing vessels': 5,\n",
       " 'inland dry cargo': 6,\n",
       " 'motor vessels': 7,\n",
       " 'restaurant ships': 8,\n",
       " 'submarines': 9}"
      ]
     },
     "execution_count": 30,
     "metadata": {},
     "output_type": "execute_result"
    }
   ],
   "source": [
    "x_train.class_indices"
   ]
  },
  {
   "cell_type": "code",
   "execution_count": 31,
   "metadata": {},
   "outputs": [],
   "source": [
    "model.save(\"ships.h5\")"
   ]
  },
  {
   "cell_type": "code",
   "execution_count": 1,
   "metadata": {},
   "outputs": [],
   "source": [
    "import numpy as np\n",
    "from tensorflow.keras.models import load_model\n",
    "from tensorflow.keras.preprocessing import image"
   ]
  },
  {
   "cell_type": "code",
   "execution_count": 2,
   "metadata": {},
   "outputs": [],
   "source": [
    "model1=load_model(\"ships.h5\")"
   ]
  },
  {
   "cell_type": "code",
   "execution_count": 3,
   "metadata": {},
   "outputs": [],
   "source": [
    "img=image.load_img(r\"C:\\ship classification\\testing data\\aircraft carrier\\3238677.jpg\"\n",
    "                  , target_size=(128,128))"
   ]
  },
  {
   "cell_type": "code",
   "execution_count": 4,
   "metadata": {},
   "outputs": [],
   "source": [
    "x=image.img_to_array(img)"
   ]
  },
  {
   "cell_type": "code",
   "execution_count": 5,
   "metadata": {},
   "outputs": [
    {
     "data": {
      "text/plain": [
       "(128, 128, 3)"
      ]
     },
     "execution_count": 5,
     "metadata": {},
     "output_type": "execute_result"
    }
   ],
   "source": [
    "x.shape"
   ]
  },
  {
   "cell_type": "code",
   "execution_count": 6,
   "metadata": {},
   "outputs": [],
   "source": [
    "x=np.expand_dims(x,axis=0)"
   ]
  },
  {
   "cell_type": "code",
   "execution_count": 7,
   "metadata": {},
   "outputs": [
    {
     "data": {
      "text/plain": [
       "(1, 128, 128, 3)"
      ]
     },
     "execution_count": 7,
     "metadata": {},
     "output_type": "execute_result"
    }
   ],
   "source": [
    "x.shape"
   ]
  },
  {
   "cell_type": "code",
   "execution_count": 8,
   "metadata": {},
   "outputs": [
    {
     "name": "stderr",
     "output_type": "stream",
     "text": [
      "C:\\navigator\\lib\\site-packages\\tensorflow\\python\\keras\\engine\\sequential.py:450: UserWarning: `model.predict_classes()` is deprecated and will be removed after 2021-01-01. Please use instead:* `np.argmax(model.predict(x), axis=-1)`,   if your model does multi-class classification   (e.g. if it uses a `softmax` last-layer activation).* `(model.predict(x) > 0.5).astype(\"int32\")`,   if your model does binary classification   (e.g. if it uses a `sigmoid` last-layer activation).\n",
      "  warnings.warn('`model.predict_classes()` is deprecated and '\n"
     ]
    }
   ],
   "source": [
    "a=model1.predict_classes(x)"
   ]
  },
  {
   "cell_type": "code",
   "execution_count": 71,
   "metadata": {},
   "outputs": [
    {
     "data": {
      "text/plain": [
       "array([0], dtype=int64)"
      ]
     },
     "execution_count": 71,
     "metadata": {},
     "output_type": "execute_result"
    }
   ],
   "source": [
    "a"
   ]
  },
  {
   "cell_type": "code",
   "execution_count": 72,
   "metadata": {},
   "outputs": [],
   "source": [
    "index=['aircraft carrier','bulker ships','cruise ships','drilling rigs','fire fighter ships',\n",
    " 'fishing vessels','inland dry cargo','motor vessels','restaurant ships','submarines']\n"
   ]
  },
  {
   "cell_type": "code",
   "execution_count": 73,
   "metadata": {},
   "outputs": [],
   "source": [
    "result=str(index[a[0]])"
   ]
  },
  {
   "cell_type": "code",
   "execution_count": 74,
   "metadata": {},
   "outputs": [
    {
     "data": {
      "text/plain": [
       "'aircraft carrier'"
      ]
     },
     "execution_count": 74,
     "metadata": {},
     "output_type": "execute_result"
    }
   ],
   "source": [
    "result"
   ]
  },
  {
   "cell_type": "code",
   "execution_count": null,
   "metadata": {},
   "outputs": [],
   "source": []
  }
 ],
 "metadata": {
  "kernelspec": {
   "display_name": "Python 3",
   "language": "python",
   "name": "python3"
  },
  "language_info": {
   "codemirror_mode": {
    "name": "ipython",
    "version": 3
   },
   "file_extension": ".py",
   "mimetype": "text/x-python",
   "name": "python",
   "nbconvert_exporter": "python",
   "pygments_lexer": "ipython3",
   "version": "3.8.5"
  }
 },
 "nbformat": 4,
 "nbformat_minor": 4
}
